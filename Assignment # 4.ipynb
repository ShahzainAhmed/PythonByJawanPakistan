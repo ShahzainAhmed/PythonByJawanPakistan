{
 "cells": [
  {
   "cell_type": "code",
   "execution_count": 1,
   "metadata": {},
   "outputs": [
    {
     "name": "stdout",
     "output_type": "stream",
     "text": [
      "Enter the first number: 6\n",
      "Enter the second number: 5\n",
      " \n",
      "1. Addition\n",
      "2. Subtraction\n",
      "3. Multiplication\n",
      "4. Division\n",
      "5. Power\n",
      "Press the numbers from 1 to 5, to select the operators from the above list: 3\n",
      "Multiplication of the two numbers is:  30\n"
     ]
    }
   ],
   "source": [
    "# Python Course by Jawan Pakistan - (Question 01 - Assignment - 04) | Shahzain Ahmed\n",
    "# Q:1 Make a calculator using Python with addition, subtraction, multiplication, division, and power.\n",
    "\n",
    "a = int(input(\"Enter the first number: \"))\n",
    "b = int(input(\"Enter the second number: \"))\n",
    "print(\" \")\n",
    "print(\"1. Addition\")\n",
    "print(\"2. Subtraction\")\n",
    "print(\"3. Multiplication\")\n",
    "print(\"4. Division\")\n",
    "print(\"5. Power\")\n",
    "\n",
    "userInput = int(input(\"Press the numbers from 1 to 5, to select the operators from the above list: \"))\n",
    "\n",
    "if userInput == 1:\n",
    "    print(\"Addition of the two numbers is: \", a+b)\n",
    "elif userInput == 2:\n",
    "    print(\"Subtraction of the two numbers is: \", a-b)\n",
    "elif userInput == 3:\n",
    "    print(\"Multiplication of the two numbers is: \", a*b)\n",
    "elif userInput == 4:\n",
    "    print(\"Division of the two numbers is: \", a/b)    \n",
    "elif userInput == 5:\n",
    "    print(\"Power of the two numbers is: \", a**b) "
   ]
  },
  {
   "cell_type": "code",
   "execution_count": 7,
   "metadata": {},
   "outputs": [
    {
     "name": "stdout",
     "output_type": "stream",
     "text": [
      "86\n"
     ]
    }
   ],
   "source": [
    "# Python Course by Jawan Pakistan - (Question 02 - Assignment - 04) | Shahzain Ahmed\n",
    "# Q:2 Write a program to check if there is any numeric value in list using for loop.\n",
    "\n",
    "myList = [\"Shahzain\", \"Ahmed\", 86, \"Computer Systems Engineer\"] \n",
    "for x in myList: \n",
    "    if type(x) == int: \n",
    "        print(x)"
   ]
  },
  {
   "cell_type": "code",
   "execution_count": 2,
   "metadata": {},
   "outputs": [
    {
     "name": "stdout",
     "output_type": "stream",
     "text": [
      "{1: 'Shahzain'}\n",
      "{1: 'Shahzain', 2: 'Ahmed'}\n"
     ]
    }
   ],
   "source": [
    "# Python Course by Jawan Pakistan - (Question 03 - Assignment - 04) | Shahzain Ahmed\n",
    "# Q:3 Write a Python script to add a key to a dictionary.\n",
    "a = {1: \"Shahzain\"}\n",
    "print (a)\n",
    "a.update({2: \"Ahmed\"})\n",
    "print(a)"
   ]
  },
  {
   "cell_type": "code",
   "execution_count": 3,
   "metadata": {},
   "outputs": [
    {
     "name": "stdout",
     "output_type": "stream",
     "text": [
      "140\n"
     ]
    }
   ],
   "source": [
    "# Python Course by Jawan Pakistan - (Question 04- Assignment - 04) | Shahzain Ahmed\n",
    "# Q:4 Write a Python program to sum all the numeric items in a dictionary.\n",
    "\n",
    "a = {1: 86, 2: 24, 3: 30}\n",
    "print(sum(a.values()))"
   ]
  },
  {
   "cell_type": "code",
   "execution_count": 4,
   "metadata": {},
   "outputs": [
    {
     "name": "stdout",
     "output_type": "stream",
     "text": [
      "Shahzain 86 "
     ]
    }
   ],
   "source": [
    "# Python Course by Jawan Pakistan - (Question 05- Assignment - 04) | Shahzain Ahmed\n",
    "# Q:5 Write a program to identify duplicate values from list.\n",
    "\n",
    "s = ['Shahzain', 'Shahzain', 86, 'Ahmed', 120, 86]\n",
    "s1 = []\n",
    "\n",
    "for i in s:\n",
    "    if i not in s1:\n",
    "        s1.append(i)\n",
    "    else:\n",
    "        print(i,end=' ') "
   ]
  },
  {
   "cell_type": "code",
   "execution_count": 6,
   "metadata": {},
   "outputs": [
    {
     "name": "stdout",
     "output_type": "stream",
     "text": [
      "Key is present in the dictionary\n",
      "Key is not present in the dictionary\n"
     ]
    }
   ],
   "source": [
    "# Python Course by Jawan Pakistan - (Question 06- Assignment - 04) | Shahzain Ahmed\n",
    "# Q:6 Write a Python script to check if a given key already exists in a dictionary.\n",
    "\n",
    "d = {1: 86, 2: 14, 3: 30, 4: 46, 5: 120, 6: 60}\n",
    "def is_key_present(x):\n",
    "  if x in d:\n",
    "      print('Key is present in the dictionary')\n",
    "  else:\n",
    "      print('Key is not present in the dictionary')\n",
    "is_key_present(2)\n",
    "is_key_present(9)"
   ]
  }
 ],
 "metadata": {
  "kernelspec": {
   "display_name": "Python 3",
   "language": "python",
   "name": "python3"
  },
  "language_info": {
   "codemirror_mode": {
    "name": "ipython",
    "version": 3
   },
   "file_extension": ".py",
   "mimetype": "text/x-python",
   "name": "python",
   "nbconvert_exporter": "python",
   "pygments_lexer": "ipython3",
   "version": "3.7.4"
  }
 },
 "nbformat": 4,
 "nbformat_minor": 2
}
