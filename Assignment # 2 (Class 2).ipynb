{
 "cells": [
  {
   "cell_type": "code",
   "execution_count": 8,
   "metadata": {},
   "outputs": [
    {
     "name": "stdout",
     "output_type": "stream",
     "text": [
      "Grade A+\n"
     ]
    }
   ],
   "source": [
    # Python Coure by Jawan Pakistan - (Assignment # 2 = Marksheet) | Shahzain Ahmed
    "English = 86;\n",
    "Islamiyat = 90;\n",
    "Mathematics = 74;\n",
    "totalMarks = 300;\n",
    "Percentage = ((English + Islamiyat + Mathematics) / totalMarks) * 100;\n",
    "if (Percentage >= 80 and Percentage <= 100):\n",
    "    print(\"Grade A+\")\n",
    "elif (Percentage >= 70 and Percentage <= 80):\n",
    "    print (\"Grade A\")\n",
    "elif (Percentage >= 60 and Percentage <= 70):\n",
    "    print (\"Grade B\")\n",
    "elif (Percentage >= 50 and Percentage <= 60):\n",
    "    print (\"Grade C\")\n",
    "elif (Percentage >= 40 and Percentage <= 50):\n",
    "    print (\"Grade D\")\n",
    "elif (Percentage >= 30 and Percentage <= 40):\n",
    "    print (\"Grade E\")\n",
    "elif (Percentage >= 0 and Percentage <= 30):\n",
    "    print (\"Fail\")\n",
    "else: print(\"Percentage is invalid.\")"
   ]
  },
  {
   "cell_type": "code",
   "execution_count": null,
   "metadata": {},
   "outputs": [],
   "source": []
  }
 ],
 "metadata": {
  "kernelspec": {
   "display_name": "Python 3",
   "language": "python",
   "name": "python3"
  },
  "language_info": {
   "codemirror_mode": {
    "name": "ipython",
    "version": 3
   },
   "file_extension": ".py",
   "mimetype": "text/x-python",
   "name": "python",
   "nbconvert_exporter": "python",
   "pygments_lexer": "ipython3",
   "version": "3.7.4"
  }
 },
 "nbformat": 4,
 "nbformat_minor": 2
}
