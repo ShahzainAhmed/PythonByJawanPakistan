{
 "cells": [
  {
   "cell_type": "code",
   "execution_count": 6,
   "metadata": {},
   "outputs": [
    {
     "name": "stdout",
     "output_type": "stream",
     "text": [
      "Twinkle, twinkle, little star,\n",
      "     How I wonder what you are!\n",
      "         Up above the world so high,\n",
      "         Like a diamond in the sky.\n",
      "Twinkle, twinkle, little star,\n",
      "     How I wonder what you are!\n"
     ]
    }
   ],
   "source": [
    "# Python Course by Jawan Pakistan - (Question 01 - Assignment - 03) | Shahzain Ahmed\n",
    "# Q:1 Write a Python program to print the following string in a specific format (see the output).\n",
    "# Twinkle, twinkle, little star,\n",
    "#        How I wonder what you are!\n",
    "#            Up above the world so high,\n",
    "#            Like a diamond in the sky.\n",
    "# Twinkle, twinkle, little star,\n",
    "#        How I wonder what you are\n",
    "\n",
    "print(\"Twinkle, twinkle, little star,\")\n",
    "print(\"    \" , \"How I wonder what you are!\")\n",
    "print(\"        \" , \"Up above the world so high,\")\n",
    "print(\"        \" , \"Like a diamond in the sky.\")\n",
    "print(\"Twinkle, twinkle, little star,\")\n",
    "print(\"    \" , \"How I wonder what you are!\")"
   ]
  },
  {
   "cell_type": "code",
   "execution_count": 13,
   "metadata": {},
   "outputs": [
    {
     "name": "stdout",
     "output_type": "stream",
     "text": [
      "My Python version is: 3.7.4\n"
     ]
    }
   ],
   "source": [
    "# Python Course by Jawan Pakistan - (Question 02 - Assignment - 03) | Shahzain Ahmed\n",
    "# Q:2 Write a Python program to get the Python version you are using.\n",
    "from platform import python_version\n",
    "print(\"My Python version is:\", python_version())"
   ]
  },
  {
   "cell_type": "code",
   "execution_count": 32,
   "metadata": {},
   "outputs": [
    {
     "name": "stdout",
     "output_type": "stream",
     "text": [
      "The Current Date and Time is: \n",
      "2021-10-23 22:36:30\n"
     ]
    }
   ],
   "source": [
    "# Python Course by Jawan Pakistan - (Question 03 - Assignment - 03) | Shahzain Ahmed\n",
    "# Q:3 Write a Python program to display the current date and time.\n",
    "import datetime\n",
    "now = datetime.datetime.now()\n",
    "print (\"The Current Date and Time is: \")\n",
    "print (now.strftime(\"%Y-%m-%d %H:%M:%S\"))"
   ]
  },
  {
   "cell_type": "code",
   "execution_count": 21,
   "metadata": {},
   "outputs": [
    {
     "name": "stdout",
     "output_type": "stream",
     "text": [
      "Please enter the radius of the circle: 3.74\n",
      "The area of the circle with radius 3.74 is: 43.92106400000001\n"
     ]
    }
   ],
   "source": [
    "# Python Course by Jawan Pakistan - (Question 04 - Assignment - 03) | Shahzain Ahmed\n",
    "# Q:4 Write a Python program which accepts the radius of a circle from the user and compute the area.\n",
    "pi = 3.14\n",
    "r = float(input (\"Please enter the radius of the circle: \"))\n",
    "print (\"The area of the circle with radius \" + str(r) + \" is: \" + str(pi * r**2))"
   ]
  },
  {
   "cell_type": "code",
   "execution_count": 31,
   "metadata": {},
   "outputs": [
    {
     "name": "stdout",
     "output_type": "stream",
     "text": [
      "Enter your First Name: Shahzain\n",
      "Enter your Last Name: Ahmed\n",
      "Original Name: Shahzain Ahmed\n",
      "Reversed Name: Ahmed Shahzain\n"
     ]
    }
   ],
   "source": [
    "# Python Course by Jawan Pakistan - (Question 05 - Assignment - 03) | Shahzain Ahmed\n",
    "# Q:5 Write a Python program which accepts the user's first and last name and print them in reverse order with a space between them.\n",
    "firstName = input(\"Enter your First Name: \")\n",
    "lastName = input(\"Enter your Last Name: \")\n",
    "print(\"Original Name: \" + firstName + \" \" + lastName)\n",
    "print(\"Reversed Name: \" + lastName + \" \" + firstName)"
   ]
  },
  {
   "cell_type": "code",
   "execution_count": 43,
   "metadata": {},
   "outputs": [
    {
     "name": "stdout",
     "output_type": "stream",
     "text": [
      "Enter the first number: 80\n",
      "Enter the second number: 6\n",
      "Addition of both of these inputted numbers is:  86\n"
     ]
    }
   ],
   "source": [
    "# Python Course by Jawan Pakistan - (Question 06 - Assignment - 03) | Shahzain Ahmed\n",
    "# Q:6 Write a python program which takes two inputs from user and print them addition.\n",
    "num1 = int(input(\"Enter the first number: \"))\n",
    "num2 = int(input(\"Enter the second number: \"))\n",
    "print(\"Addition of both of these inputted numbers is: \" , num1+num2)\n"
   ]
  },
  {
   "cell_type": "code",
   "execution_count": 65,
   "metadata": {},
   "outputs": [
    {
     "name": "stdout",
     "output_type": "stream",
     "text": [
      "Enter your marks for English subject: 86\n",
      "Enter your marks for Islamiyat subject: 75\n",
      "Enter your marks for Mathematics subject: 72\n",
      "Enter your marks for Programming subject: 95\n",
      "Enter your marks for Web-Engineering subject: 92\n",
      "Total obtained marks are: 420\n",
      "Percentage: 84.0 %\n",
      "Grade A+\n"
     ]
    }
   ],
   "source": [
    "# Python Course by Jawan Pakistan - (Question 07 - Assignment - 03) | Shahzain Ahmed\n",
    "# Q:7 Write a program which takes 5 inputs from user for different subject’s marks, total it and generate mark sheet using grades ?\n",
    "\n",
    "English = int(input(\"Enter your marks for English subject: \"))\n",
    "Islamiyat = int(input(\"Enter your marks for Islamiyat subject: \"))\n",
    "Mathematics = int(input(\"Enter your marks for Mathematics subject: \"))\n",
    "Programming = int(input(\"Enter your marks for Programming subject: \"))\n",
    "webEngineering = int(input(\"Enter your marks for Web-Engineering subject: \"))\n",
    "obtainedMarks = English + Islamiyat + Mathematics + Programming + webEngineering\n",
    "print(\"Total obtained marks are:\" , obtainedMarks)\n",
    "totalMarks = 500\n",
    "Percentage = ((English + Islamiyat + Mathematics + Programming + webEngineering) / totalMarks) * 100;\n",
    "print(\"Percentage:\" , Percentage , \"%\")\n",
    "\n",
    "if (Percentage >= 80 and Percentage <= 100):\n",
    "    print(\"Grade A+\")\n",
    "elif (Percentage >= 70 and Percentage <= 80):\n",
    "    print (\"Grade A\")\n",
    "elif (Percentage >= 60 and Percentage <= 70):\n",
    "    print (\"Grade B\")\n",
    "elif (Percentage >= 50 and Percentage <= 60):\n",
    "    print (\"Grade C\")\n",
    "elif (Percentage >= 40 and Percentage <= 50):\n",
    "    print (\"Grade D\")\n",
    "elif (Percentage >= 30 and Percentage <= 40):\n",
    "    print (\"Grade E\")\n",
    "elif (Percentage >= 0 and Percentage <= 30):\n",
    "    print (\"Fail\")\n",
    "else: print(\"Percentage is invalid.\")"
   ]
  },
  {
   "cell_type": "code",
   "execution_count": 55,
   "metadata": {},
   "outputs": [
    {
     "name": "stdout",
     "output_type": "stream",
     "text": [
      "Enter the first number: 86\n",
      "The inputted number is an Even number.\n"
     ]
    }
   ],
   "source": [
    "# Python Course by Jawan Pakistan - (Question 08 - Assignment - 03) | Shahzain Ahmed\n",
    "# Q:8 Write a program which take input from user and identify that the given number is even or odd?\n",
    "\n",
    "num = int(input(\"Enter the first number: \"))\n",
    "if num%2 == 0:\n",
    "    print(\"The inputted number is an Even number.\")\n",
    "else:\n",
    "    print(\"The inputted number is an Odd number.\")"
   ]
  },
  {
   "cell_type": "code",
   "execution_count": 60,
   "metadata": {},
   "outputs": [
    {
     "name": "stdout",
     "output_type": "stream",
     "text": [
      "The length of the list is: 5\n"
     ]
    }
   ],
   "source": [
    "# Python Course by Jawan Pakistan - (Question 09 - Assignment - 03) | Shahzain Ahmed\n",
    "# Q:9 Write a program which print the length of the list?\n",
    "\n",
    "list = [86, 120, 30, 122, 101]\n",
    "print(\"The length of the list is:\" , len(list))"
   ]
  },
  {
   "cell_type": "code",
   "execution_count": 75,
   "metadata": {},
   "outputs": [
    {
     "name": "stdout",
     "output_type": "stream",
     "text": [
      "The sum of all the numeric items in the list is: 459\n"
     ]
    }
   ],
   "source": [
    "# Python Course by Jawan Pakistan - (Question 10 - Assignment - 03) | Shahzain Ahmed\n",
    "# Q:10 Write a Python program to sum all the numeric items in a list?\n",
    "\n",
    "list = [86, 120, 30, 122, 101]\n",
    "print(\"The sum of all the numeric items in the list is:\" , sum(list)) "
   ]
  },
  {
   "cell_type": "code",
   "execution_count": 76,
   "metadata": {},
   "outputs": [
    {
     "name": "stdout",
     "output_type": "stream",
     "text": [
      "The largest number from the numeric list is: 122\n"
     ]
    }
   ],
   "source": [
    "# Python Course by Jawan Pakistan - (Question 11 - Assignment - 03) | Shahzain Ahmed\n",
    "# Q:11 Write a Python program to get the largest number from a numeric list.\n",
    "\n",
    "list = [86, 120, 30, 122, 101]\n",
    "print(\"The largest number from the numeric list is:\" , max(list))"
   ]
  },
  {
   "cell_type": "code",
   "execution_count": 78,
   "metadata": {},
   "outputs": [
    {
     "name": "stdout",
     "output_type": "stream",
     "text": [
      "1\n",
      "1\n",
      "2\n",
      "3\n"
     ]
    }
   ],
   "source": [
    "# Python Course by Jawan Pakistan - (Question 12 - Assignment - 03) | Shahzain Ahmed\n",
    "# Q:12 Write a program that prints out all the elements of the list that are less than 5.\n",
    "\n",
    "a = [1, 1, 2, 3, 5, 8, 13, 21, 34, 55, 89]\n",
    "for i in a:\n",
    "    if i < 5:\n",
    "        print(i)    "
   ]
  },
  {
   "cell_type": "code",
   "execution_count": null,
   "metadata": {},
   "outputs": [],
   "source": []
  }
 ],
 "metadata": {
  "kernelspec": {
   "display_name": "Python 3",
   "language": "python",
   "name": "python3"
  },
  "language_info": {
   "codemirror_mode": {
    "name": "ipython",
    "version": 3
   },
   "file_extension": ".py",
   "mimetype": "text/x-python",
   "name": "python",
   "nbconvert_exporter": "python",
   "pygments_lexer": "ipython3",
   "version": "3.7.4"
  }
 },
 "nbformat": 4,
 "nbformat_minor": 2
}
